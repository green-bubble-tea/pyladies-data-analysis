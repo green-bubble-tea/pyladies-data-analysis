{
 "cells": [
  {
   "cell_type": "code",
   "execution_count": 3,
   "metadata": {},
   "outputs": [
    {
     "name": "stdout",
     "output_type": "stream",
     "text": [
      "Goodbye, world!\n"
     ]
    }
   ],
   "source": [
    "print(\"Goodbye, world!\")"
   ]
  },
  {
   "cell_type": "code",
   "execution_count": 4,
   "metadata": {},
   "outputs": [
    {
     "name": "stdout",
     "output_type": "stream",
     "text": [
      "a is 5\n"
     ]
    }
   ],
   "source": [
    "a = 5 \n",
    "print(f'a is {a}')"
   ]
  },
  {
   "cell_type": "markdown",
   "metadata": {},
   "source": [
    "# Jupyter quick notes \n",
    "\n",
    "- new cell above - \"a\" (outside of active cell) \n",
    "- new cell below - \"b\" (outside of active cell)\n",
    "- delete cell below - \"dd\"\n",
    "- run and new cell below - shift+enter\n",
    "- run - ctrl+enter\n",
    "- print last value - no print command \n",
    "- print many values - use print command\n",
    "- no syntax hint on ctrl+space :( \n",
    "- tab for syntax hint"
   ]
  },
  {
   "cell_type": "markdown",
   "metadata": {},
   "source": [
    "### Capitalize every first letter in list that is of type string"
   ]
  },
  {
   "cell_type": "code",
   "execution_count": 27,
   "metadata": {},
   "outputs": [
    {
     "name": "stdout",
     "output_type": "stream",
     "text": [
      "['Panda', 'Wombat', 'Pig', 'Salmon', 'Horse', 'Tarantula', 'Kitten', 'Zebra']\n",
      "['Panda', 'Wombat', 'Pig', 'Salmon', 'Horse', 'Tarantula', 'Kitten', 'Zebra']\n",
      "['Panda', 'Wombat', 'Pig', 'SALMON', 'HOrSe', 'TARANtula', 'Kitten', 'ZebrA']\n",
      "\n"
     ]
    }
   ],
   "source": [
    "animals = [\"panda\", \"wombat\", \"Pig\", \"SALMON\", \"hOrSe\", \"TARANtula\", 2, \"Kitten\", \"ZebrA\"]\n",
    "x = [i.capitalize() for i in animals if isinstance(i, str)]\n",
    "y = list(map(lambda i: i.title(), filter(lambda i: isinstance(i, str), animals)))\n",
    "z = []\n",
    "for i in animals: \n",
    "    if isinstance(i, str):\n",
    "        z.append(f'{i[0].capitalize()}{i[1:]}')\n",
    "print(f'{x}\\n{y}\\n{z}\\n')"
   ]
  }
 ],
 "metadata": {
  "kernelspec": {
   "display_name": "Python 3",
   "language": "python",
   "name": "python3"
  },
  "language_info": {
   "codemirror_mode": {
    "name": "ipython",
    "version": 3
   },
   "file_extension": ".py",
   "mimetype": "text/x-python",
   "name": "python",
   "nbconvert_exporter": "python",
   "pygments_lexer": "ipython3",
   "version": "3.7.4"
  }
 },
 "nbformat": 4,
 "nbformat_minor": 2
}
